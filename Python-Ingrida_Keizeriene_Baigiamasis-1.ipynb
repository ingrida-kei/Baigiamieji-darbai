{
 "cells": [
  {
   "cell_type": "markdown",
   "metadata": {},
   "source": [
    "Vynų analizė (2017 metų)\n",
    "\n",
    "Duomenų analizei panaudoti Kaggle tinklapyje pateikti vynų duomenys. Pateiktoje 2017 metų lentelėje surinkti duomenys apie vynus pagal vynuogynus, vynuogių rūšis, šalis ir regionus, butelio kainą, vertinimo taškus, ragautojus. DB sudarė (eilutės - 129971, stulpeliai - 14).\n",
    "\n",
    "https://www.kaggle.com/datasets/zynicide/wine-reviews"
   ]
  },
  {
   "cell_type": "code",
   "execution_count": 152,
   "metadata": {},
   "outputs": [],
   "source": [
    "import pandas as pd"
   ]
  },
  {
   "cell_type": "code",
   "execution_count": 153,
   "metadata": {},
   "outputs": [],
   "source": [
    "import numpy as np\n",
    "import matplotlib.pyplot as plt"
   ]
  },
  {
   "cell_type": "code",
   "execution_count": 154,
   "metadata": {},
   "outputs": [],
   "source": [
    "vyn2017 = pd.read_csv('winemag-data-130K-v2.csv')"
   ]
  },
  {
   "cell_type": "code",
   "execution_count": 155,
   "metadata": {},
   "outputs": [
    {
     "data": {
      "text/html": [
       "<div>\n",
       "<style scoped>\n",
       "    .dataframe tbody tr th:only-of-type {\n",
       "        vertical-align: middle;\n",
       "    }\n",
       "\n",
       "    .dataframe tbody tr th {\n",
       "        vertical-align: top;\n",
       "    }\n",
       "\n",
       "    .dataframe thead th {\n",
       "        text-align: right;\n",
       "    }\n",
       "</style>\n",
       "<table border=\"1\" class=\"dataframe\">\n",
       "  <thead>\n",
       "    <tr style=\"text-align: right;\">\n",
       "      <th></th>\n",
       "      <th>Unnamed: 0</th>\n",
       "      <th>country</th>\n",
       "      <th>description</th>\n",
       "      <th>designation</th>\n",
       "      <th>points</th>\n",
       "      <th>price</th>\n",
       "      <th>province</th>\n",
       "      <th>region_1</th>\n",
       "      <th>region_2</th>\n",
       "      <th>taster_name</th>\n",
       "      <th>taster_twitter_handle</th>\n",
       "      <th>title</th>\n",
       "      <th>variety</th>\n",
       "      <th>winery</th>\n",
       "    </tr>\n",
       "  </thead>\n",
       "  <tbody>\n",
       "    <tr>\n",
       "      <th>0</th>\n",
       "      <td>0</td>\n",
       "      <td>Italy</td>\n",
       "      <td>Aromas include tropical fruit, broom, brimston...</td>\n",
       "      <td>Vulkà Bianco</td>\n",
       "      <td>87</td>\n",
       "      <td>NaN</td>\n",
       "      <td>Sicily &amp; Sardinia</td>\n",
       "      <td>Etna</td>\n",
       "      <td>NaN</td>\n",
       "      <td>Kerin O’Keefe</td>\n",
       "      <td>@kerinokeefe</td>\n",
       "      <td>Nicosia 2013 Vulkà Bianco  (Etna)</td>\n",
       "      <td>White Blend</td>\n",
       "      <td>Nicosia</td>\n",
       "    </tr>\n",
       "    <tr>\n",
       "      <th>1</th>\n",
       "      <td>1</td>\n",
       "      <td>Portugal</td>\n",
       "      <td>This is ripe and fruity, a wine that is smooth...</td>\n",
       "      <td>Avidagos</td>\n",
       "      <td>87</td>\n",
       "      <td>15.0</td>\n",
       "      <td>Douro</td>\n",
       "      <td>NaN</td>\n",
       "      <td>NaN</td>\n",
       "      <td>Roger Voss</td>\n",
       "      <td>@vossroger</td>\n",
       "      <td>Quinta dos Avidagos 2011 Avidagos Red (Douro)</td>\n",
       "      <td>Portuguese Red</td>\n",
       "      <td>Quinta dos Avidagos</td>\n",
       "    </tr>\n",
       "    <tr>\n",
       "      <th>2</th>\n",
       "      <td>2</td>\n",
       "      <td>US</td>\n",
       "      <td>Tart and snappy, the flavors of lime flesh and...</td>\n",
       "      <td>NaN</td>\n",
       "      <td>87</td>\n",
       "      <td>14.0</td>\n",
       "      <td>Oregon</td>\n",
       "      <td>Willamette Valley</td>\n",
       "      <td>Willamette Valley</td>\n",
       "      <td>Paul Gregutt</td>\n",
       "      <td>@paulgwine</td>\n",
       "      <td>Rainstorm 2013 Pinot Gris (Willamette Valley)</td>\n",
       "      <td>Pinot Gris</td>\n",
       "      <td>Rainstorm</td>\n",
       "    </tr>\n",
       "    <tr>\n",
       "      <th>3</th>\n",
       "      <td>3</td>\n",
       "      <td>US</td>\n",
       "      <td>Pineapple rind, lemon pith and orange blossom ...</td>\n",
       "      <td>Reserve Late Harvest</td>\n",
       "      <td>87</td>\n",
       "      <td>13.0</td>\n",
       "      <td>Michigan</td>\n",
       "      <td>Lake Michigan Shore</td>\n",
       "      <td>NaN</td>\n",
       "      <td>Alexander Peartree</td>\n",
       "      <td>NaN</td>\n",
       "      <td>St. Julian 2013 Reserve Late Harvest Riesling ...</td>\n",
       "      <td>Riesling</td>\n",
       "      <td>St. Julian</td>\n",
       "    </tr>\n",
       "    <tr>\n",
       "      <th>4</th>\n",
       "      <td>4</td>\n",
       "      <td>US</td>\n",
       "      <td>Much like the regular bottling from 2012, this...</td>\n",
       "      <td>Vintner's Reserve Wild Child Block</td>\n",
       "      <td>87</td>\n",
       "      <td>65.0</td>\n",
       "      <td>Oregon</td>\n",
       "      <td>Willamette Valley</td>\n",
       "      <td>Willamette Valley</td>\n",
       "      <td>Paul Gregutt</td>\n",
       "      <td>@paulgwine</td>\n",
       "      <td>Sweet Cheeks 2012 Vintner's Reserve Wild Child...</td>\n",
       "      <td>Pinot Noir</td>\n",
       "      <td>Sweet Cheeks</td>\n",
       "    </tr>\n",
       "    <tr>\n",
       "      <th>...</th>\n",
       "      <td>...</td>\n",
       "      <td>...</td>\n",
       "      <td>...</td>\n",
       "      <td>...</td>\n",
       "      <td>...</td>\n",
       "      <td>...</td>\n",
       "      <td>...</td>\n",
       "      <td>...</td>\n",
       "      <td>...</td>\n",
       "      <td>...</td>\n",
       "      <td>...</td>\n",
       "      <td>...</td>\n",
       "      <td>...</td>\n",
       "      <td>...</td>\n",
       "    </tr>\n",
       "    <tr>\n",
       "      <th>129966</th>\n",
       "      <td>129966</td>\n",
       "      <td>Germany</td>\n",
       "      <td>Notes of honeysuckle and cantaloupe sweeten th...</td>\n",
       "      <td>Brauneberger Juffer-Sonnenuhr Spätlese</td>\n",
       "      <td>90</td>\n",
       "      <td>28.0</td>\n",
       "      <td>Mosel</td>\n",
       "      <td>NaN</td>\n",
       "      <td>NaN</td>\n",
       "      <td>Anna Lee C. Iijima</td>\n",
       "      <td>NaN</td>\n",
       "      <td>Dr. H. Thanisch (Erben Müller-Burggraef) 2013 ...</td>\n",
       "      <td>Riesling</td>\n",
       "      <td>Dr. H. Thanisch (Erben Müller-Burggraef)</td>\n",
       "    </tr>\n",
       "    <tr>\n",
       "      <th>129967</th>\n",
       "      <td>129967</td>\n",
       "      <td>US</td>\n",
       "      <td>Citation is given as much as a decade of bottl...</td>\n",
       "      <td>NaN</td>\n",
       "      <td>90</td>\n",
       "      <td>75.0</td>\n",
       "      <td>Oregon</td>\n",
       "      <td>Oregon</td>\n",
       "      <td>Oregon Other</td>\n",
       "      <td>Paul Gregutt</td>\n",
       "      <td>@paulgwine</td>\n",
       "      <td>Citation 2004 Pinot Noir (Oregon)</td>\n",
       "      <td>Pinot Noir</td>\n",
       "      <td>Citation</td>\n",
       "    </tr>\n",
       "    <tr>\n",
       "      <th>129968</th>\n",
       "      <td>129968</td>\n",
       "      <td>France</td>\n",
       "      <td>Well-drained gravel soil gives this wine its c...</td>\n",
       "      <td>Kritt</td>\n",
       "      <td>90</td>\n",
       "      <td>30.0</td>\n",
       "      <td>Alsace</td>\n",
       "      <td>Alsace</td>\n",
       "      <td>NaN</td>\n",
       "      <td>Roger Voss</td>\n",
       "      <td>@vossroger</td>\n",
       "      <td>Domaine Gresser 2013 Kritt Gewurztraminer (Als...</td>\n",
       "      <td>Gewürztraminer</td>\n",
       "      <td>Domaine Gresser</td>\n",
       "    </tr>\n",
       "    <tr>\n",
       "      <th>129969</th>\n",
       "      <td>129969</td>\n",
       "      <td>France</td>\n",
       "      <td>A dry style of Pinot Gris, this is crisp with ...</td>\n",
       "      <td>NaN</td>\n",
       "      <td>90</td>\n",
       "      <td>32.0</td>\n",
       "      <td>Alsace</td>\n",
       "      <td>Alsace</td>\n",
       "      <td>NaN</td>\n",
       "      <td>Roger Voss</td>\n",
       "      <td>@vossroger</td>\n",
       "      <td>Domaine Marcel Deiss 2012 Pinot Gris (Alsace)</td>\n",
       "      <td>Pinot Gris</td>\n",
       "      <td>Domaine Marcel Deiss</td>\n",
       "    </tr>\n",
       "    <tr>\n",
       "      <th>129970</th>\n",
       "      <td>129970</td>\n",
       "      <td>France</td>\n",
       "      <td>Big, rich and off-dry, this is powered by inte...</td>\n",
       "      <td>Lieu-dit Harth Cuvée Caroline</td>\n",
       "      <td>90</td>\n",
       "      <td>21.0</td>\n",
       "      <td>Alsace</td>\n",
       "      <td>Alsace</td>\n",
       "      <td>NaN</td>\n",
       "      <td>Roger Voss</td>\n",
       "      <td>@vossroger</td>\n",
       "      <td>Domaine Schoffit 2012 Lieu-dit Harth Cuvée Car...</td>\n",
       "      <td>Gewürztraminer</td>\n",
       "      <td>Domaine Schoffit</td>\n",
       "    </tr>\n",
       "  </tbody>\n",
       "</table>\n",
       "<p>129971 rows × 14 columns</p>\n",
       "</div>"
      ],
      "text/plain": [
       "        Unnamed: 0   country  \\\n",
       "0                0     Italy   \n",
       "1                1  Portugal   \n",
       "2                2        US   \n",
       "3                3        US   \n",
       "4                4        US   \n",
       "...            ...       ...   \n",
       "129966      129966   Germany   \n",
       "129967      129967        US   \n",
       "129968      129968    France   \n",
       "129969      129969    France   \n",
       "129970      129970    France   \n",
       "\n",
       "                                              description  \\\n",
       "0       Aromas include tropical fruit, broom, brimston...   \n",
       "1       This is ripe and fruity, a wine that is smooth...   \n",
       "2       Tart and snappy, the flavors of lime flesh and...   \n",
       "3       Pineapple rind, lemon pith and orange blossom ...   \n",
       "4       Much like the regular bottling from 2012, this...   \n",
       "...                                                   ...   \n",
       "129966  Notes of honeysuckle and cantaloupe sweeten th...   \n",
       "129967  Citation is given as much as a decade of bottl...   \n",
       "129968  Well-drained gravel soil gives this wine its c...   \n",
       "129969  A dry style of Pinot Gris, this is crisp with ...   \n",
       "129970  Big, rich and off-dry, this is powered by inte...   \n",
       "\n",
       "                                   designation  points  price  \\\n",
       "0                                 Vulkà Bianco      87    NaN   \n",
       "1                                     Avidagos      87   15.0   \n",
       "2                                          NaN      87   14.0   \n",
       "3                         Reserve Late Harvest      87   13.0   \n",
       "4           Vintner's Reserve Wild Child Block      87   65.0   \n",
       "...                                        ...     ...    ...   \n",
       "129966  Brauneberger Juffer-Sonnenuhr Spätlese      90   28.0   \n",
       "129967                                     NaN      90   75.0   \n",
       "129968                                   Kritt      90   30.0   \n",
       "129969                                     NaN      90   32.0   \n",
       "129970           Lieu-dit Harth Cuvée Caroline      90   21.0   \n",
       "\n",
       "                 province             region_1           region_2  \\\n",
       "0       Sicily & Sardinia                 Etna                NaN   \n",
       "1                   Douro                  NaN                NaN   \n",
       "2                  Oregon    Willamette Valley  Willamette Valley   \n",
       "3                Michigan  Lake Michigan Shore                NaN   \n",
       "4                  Oregon    Willamette Valley  Willamette Valley   \n",
       "...                   ...                  ...                ...   \n",
       "129966              Mosel                  NaN                NaN   \n",
       "129967             Oregon               Oregon       Oregon Other   \n",
       "129968             Alsace               Alsace                NaN   \n",
       "129969             Alsace               Alsace                NaN   \n",
       "129970             Alsace               Alsace                NaN   \n",
       "\n",
       "               taster_name taster_twitter_handle  \\\n",
       "0            Kerin O’Keefe          @kerinokeefe   \n",
       "1               Roger Voss            @vossroger   \n",
       "2             Paul Gregutt           @paulgwine    \n",
       "3       Alexander Peartree                   NaN   \n",
       "4             Paul Gregutt           @paulgwine    \n",
       "...                    ...                   ...   \n",
       "129966  Anna Lee C. Iijima                   NaN   \n",
       "129967        Paul Gregutt           @paulgwine    \n",
       "129968          Roger Voss            @vossroger   \n",
       "129969          Roger Voss            @vossroger   \n",
       "129970          Roger Voss            @vossroger   \n",
       "\n",
       "                                                    title         variety  \\\n",
       "0                       Nicosia 2013 Vulkà Bianco  (Etna)     White Blend   \n",
       "1           Quinta dos Avidagos 2011 Avidagos Red (Douro)  Portuguese Red   \n",
       "2           Rainstorm 2013 Pinot Gris (Willamette Valley)      Pinot Gris   \n",
       "3       St. Julian 2013 Reserve Late Harvest Riesling ...        Riesling   \n",
       "4       Sweet Cheeks 2012 Vintner's Reserve Wild Child...      Pinot Noir   \n",
       "...                                                   ...             ...   \n",
       "129966  Dr. H. Thanisch (Erben Müller-Burggraef) 2013 ...        Riesling   \n",
       "129967                  Citation 2004 Pinot Noir (Oregon)      Pinot Noir   \n",
       "129968  Domaine Gresser 2013 Kritt Gewurztraminer (Als...  Gewürztraminer   \n",
       "129969      Domaine Marcel Deiss 2012 Pinot Gris (Alsace)      Pinot Gris   \n",
       "129970  Domaine Schoffit 2012 Lieu-dit Harth Cuvée Car...  Gewürztraminer   \n",
       "\n",
       "                                          winery  \n",
       "0                                        Nicosia  \n",
       "1                            Quinta dos Avidagos  \n",
       "2                                      Rainstorm  \n",
       "3                                     St. Julian  \n",
       "4                                   Sweet Cheeks  \n",
       "...                                          ...  \n",
       "129966  Dr. H. Thanisch (Erben Müller-Burggraef)  \n",
       "129967                                  Citation  \n",
       "129968                           Domaine Gresser  \n",
       "129969                      Domaine Marcel Deiss  \n",
       "129970                          Domaine Schoffit  \n",
       "\n",
       "[129971 rows x 14 columns]"
      ]
     },
     "execution_count": 155,
     "metadata": {},
     "output_type": "execute_result"
    }
   ],
   "source": [
    "vyn2017"
   ]
  },
  {
   "cell_type": "code",
   "execution_count": 156,
   "metadata": {},
   "outputs": [],
   "source": [
    "vyn2017_1 =vyn2017.copy()"
   ]
  },
  {
   "cell_type": "code",
   "execution_count": 241,
   "metadata": {},
   "outputs": [],
   "source": [
    "maxall2017 = vyn2017_1['price'].max()"
   ]
  },
  {
   "cell_type": "code",
   "execution_count": 242,
   "metadata": {},
   "outputs": [
    {
     "name": "stdout",
     "output_type": "stream",
     "text": [
      "3300.0\n"
     ]
    }
   ],
   "source": [
    "print(maxall2017)"
   ]
  },
  {
   "cell_type": "code",
   "execution_count": 157,
   "metadata": {},
   "outputs": [],
   "source": [
    "vyn2017_1.dropna(subset=['price'], inplace=True)"
   ]
  },
  {
   "cell_type": "code",
   "execution_count": 158,
   "metadata": {},
   "outputs": [
    {
     "data": {
      "text/html": [
       "<div>\n",
       "<style scoped>\n",
       "    .dataframe tbody tr th:only-of-type {\n",
       "        vertical-align: middle;\n",
       "    }\n",
       "\n",
       "    .dataframe tbody tr th {\n",
       "        vertical-align: top;\n",
       "    }\n",
       "\n",
       "    .dataframe thead th {\n",
       "        text-align: right;\n",
       "    }\n",
       "</style>\n",
       "<table border=\"1\" class=\"dataframe\">\n",
       "  <thead>\n",
       "    <tr style=\"text-align: right;\">\n",
       "      <th></th>\n",
       "      <th>Unnamed: 0</th>\n",
       "      <th>country</th>\n",
       "      <th>description</th>\n",
       "      <th>designation</th>\n",
       "      <th>points</th>\n",
       "      <th>price</th>\n",
       "      <th>province</th>\n",
       "      <th>region_1</th>\n",
       "      <th>region_2</th>\n",
       "      <th>taster_name</th>\n",
       "      <th>taster_twitter_handle</th>\n",
       "      <th>title</th>\n",
       "      <th>variety</th>\n",
       "      <th>winery</th>\n",
       "    </tr>\n",
       "  </thead>\n",
       "  <tbody>\n",
       "    <tr>\n",
       "      <th>1</th>\n",
       "      <td>1</td>\n",
       "      <td>Portugal</td>\n",
       "      <td>This is ripe and fruity, a wine that is smooth...</td>\n",
       "      <td>Avidagos</td>\n",
       "      <td>87</td>\n",
       "      <td>15.0</td>\n",
       "      <td>Douro</td>\n",
       "      <td>NaN</td>\n",
       "      <td>NaN</td>\n",
       "      <td>Roger Voss</td>\n",
       "      <td>@vossroger</td>\n",
       "      <td>Quinta dos Avidagos 2011 Avidagos Red (Douro)</td>\n",
       "      <td>Portuguese Red</td>\n",
       "      <td>Quinta dos Avidagos</td>\n",
       "    </tr>\n",
       "    <tr>\n",
       "      <th>2</th>\n",
       "      <td>2</td>\n",
       "      <td>US</td>\n",
       "      <td>Tart and snappy, the flavors of lime flesh and...</td>\n",
       "      <td>NaN</td>\n",
       "      <td>87</td>\n",
       "      <td>14.0</td>\n",
       "      <td>Oregon</td>\n",
       "      <td>Willamette Valley</td>\n",
       "      <td>Willamette Valley</td>\n",
       "      <td>Paul Gregutt</td>\n",
       "      <td>@paulgwine</td>\n",
       "      <td>Rainstorm 2013 Pinot Gris (Willamette Valley)</td>\n",
       "      <td>Pinot Gris</td>\n",
       "      <td>Rainstorm</td>\n",
       "    </tr>\n",
       "    <tr>\n",
       "      <th>3</th>\n",
       "      <td>3</td>\n",
       "      <td>US</td>\n",
       "      <td>Pineapple rind, lemon pith and orange blossom ...</td>\n",
       "      <td>Reserve Late Harvest</td>\n",
       "      <td>87</td>\n",
       "      <td>13.0</td>\n",
       "      <td>Michigan</td>\n",
       "      <td>Lake Michigan Shore</td>\n",
       "      <td>NaN</td>\n",
       "      <td>Alexander Peartree</td>\n",
       "      <td>NaN</td>\n",
       "      <td>St. Julian 2013 Reserve Late Harvest Riesling ...</td>\n",
       "      <td>Riesling</td>\n",
       "      <td>St. Julian</td>\n",
       "    </tr>\n",
       "    <tr>\n",
       "      <th>4</th>\n",
       "      <td>4</td>\n",
       "      <td>US</td>\n",
       "      <td>Much like the regular bottling from 2012, this...</td>\n",
       "      <td>Vintner's Reserve Wild Child Block</td>\n",
       "      <td>87</td>\n",
       "      <td>65.0</td>\n",
       "      <td>Oregon</td>\n",
       "      <td>Willamette Valley</td>\n",
       "      <td>Willamette Valley</td>\n",
       "      <td>Paul Gregutt</td>\n",
       "      <td>@paulgwine</td>\n",
       "      <td>Sweet Cheeks 2012 Vintner's Reserve Wild Child...</td>\n",
       "      <td>Pinot Noir</td>\n",
       "      <td>Sweet Cheeks</td>\n",
       "    </tr>\n",
       "    <tr>\n",
       "      <th>5</th>\n",
       "      <td>5</td>\n",
       "      <td>Spain</td>\n",
       "      <td>Blackberry and raspberry aromas show a typical...</td>\n",
       "      <td>Ars In Vitro</td>\n",
       "      <td>87</td>\n",
       "      <td>15.0</td>\n",
       "      <td>Northern Spain</td>\n",
       "      <td>Navarra</td>\n",
       "      <td>NaN</td>\n",
       "      <td>Michael Schachner</td>\n",
       "      <td>@wineschach</td>\n",
       "      <td>Tandem 2011 Ars In Vitro Tempranillo-Merlot (N...</td>\n",
       "      <td>Tempranillo-Merlot</td>\n",
       "      <td>Tandem</td>\n",
       "    </tr>\n",
       "  </tbody>\n",
       "</table>\n",
       "</div>"
      ],
      "text/plain": [
       "   Unnamed: 0   country                                        description  \\\n",
       "1           1  Portugal  This is ripe and fruity, a wine that is smooth...   \n",
       "2           2        US  Tart and snappy, the flavors of lime flesh and...   \n",
       "3           3        US  Pineapple rind, lemon pith and orange blossom ...   \n",
       "4           4        US  Much like the regular bottling from 2012, this...   \n",
       "5           5     Spain  Blackberry and raspberry aromas show a typical...   \n",
       "\n",
       "                          designation  points  price        province  \\\n",
       "1                            Avidagos      87   15.0           Douro   \n",
       "2                                 NaN      87   14.0          Oregon   \n",
       "3                Reserve Late Harvest      87   13.0        Michigan   \n",
       "4  Vintner's Reserve Wild Child Block      87   65.0          Oregon   \n",
       "5                        Ars In Vitro      87   15.0  Northern Spain   \n",
       "\n",
       "              region_1           region_2         taster_name  \\\n",
       "1                  NaN                NaN          Roger Voss   \n",
       "2    Willamette Valley  Willamette Valley        Paul Gregutt   \n",
       "3  Lake Michigan Shore                NaN  Alexander Peartree   \n",
       "4    Willamette Valley  Willamette Valley        Paul Gregutt   \n",
       "5              Navarra                NaN   Michael Schachner   \n",
       "\n",
       "  taster_twitter_handle                                              title  \\\n",
       "1            @vossroger      Quinta dos Avidagos 2011 Avidagos Red (Douro)   \n",
       "2           @paulgwine       Rainstorm 2013 Pinot Gris (Willamette Valley)   \n",
       "3                   NaN  St. Julian 2013 Reserve Late Harvest Riesling ...   \n",
       "4           @paulgwine   Sweet Cheeks 2012 Vintner's Reserve Wild Child...   \n",
       "5           @wineschach  Tandem 2011 Ars In Vitro Tempranillo-Merlot (N...   \n",
       "\n",
       "              variety               winery  \n",
       "1      Portuguese Red  Quinta dos Avidagos  \n",
       "2          Pinot Gris            Rainstorm  \n",
       "3            Riesling           St. Julian  \n",
       "4          Pinot Noir         Sweet Cheeks  \n",
       "5  Tempranillo-Merlot               Tandem  "
      ]
     },
     "execution_count": 158,
     "metadata": {},
     "output_type": "execute_result"
    }
   ],
   "source": [
    "vyn2017_1.head() #isveda 5 eilutes"
   ]
  },
  {
   "cell_type": "code",
   "execution_count": 159,
   "metadata": {},
   "outputs": [
    {
     "data": {
      "text/plain": [
       "array(['Portuguese Red', 'Pinot Gris', 'Riesling', ..., 'Gewürztraminer',\n",
       "       'Pinot Gris', 'Gewürztraminer'], dtype=object)"
      ]
     },
     "execution_count": 159,
     "metadata": {},
     "output_type": "execute_result"
    }
   ],
   "source": [
    "vyn2017_1['variety'].values"
   ]
  },
  {
   "cell_type": "code",
   "execution_count": 160,
   "metadata": {},
   "outputs": [],
   "source": [
    "vynvar = vyn2017_1.groupby('variety')"
   ]
  },
  {
   "cell_type": "code",
   "execution_count": null,
   "metadata": {},
   "outputs": [],
   "source": [
    "vynvar.groups.keys()"
   ]
  },
  {
   "cell_type": "code",
   "execution_count": 162,
   "metadata": {},
   "outputs": [
    {
     "data": {
      "text/html": [
       "<div>\n",
       "<style scoped>\n",
       "    .dataframe tbody tr th:only-of-type {\n",
       "        vertical-align: middle;\n",
       "    }\n",
       "\n",
       "    .dataframe tbody tr th {\n",
       "        vertical-align: top;\n",
       "    }\n",
       "\n",
       "    .dataframe thead th {\n",
       "        text-align: right;\n",
       "    }\n",
       "</style>\n",
       "<table border=\"1\" class=\"dataframe\">\n",
       "  <thead>\n",
       "    <tr style=\"text-align: right;\">\n",
       "      <th></th>\n",
       "      <th>Unnamed: 0</th>\n",
       "      <th>country</th>\n",
       "      <th>description</th>\n",
       "      <th>designation</th>\n",
       "      <th>points</th>\n",
       "      <th>price</th>\n",
       "      <th>province</th>\n",
       "      <th>region_1</th>\n",
       "      <th>region_2</th>\n",
       "      <th>taster_name</th>\n",
       "      <th>taster_twitter_handle</th>\n",
       "      <th>title</th>\n",
       "      <th>variety</th>\n",
       "      <th>winery</th>\n",
       "    </tr>\n",
       "  </thead>\n",
       "  <tbody>\n",
       "    <tr>\n",
       "      <th>10</th>\n",
       "      <td>10</td>\n",
       "      <td>US</td>\n",
       "      <td>Soft, supple plum envelopes an oaky structure ...</td>\n",
       "      <td>Mountain Cuvée</td>\n",
       "      <td>87</td>\n",
       "      <td>19.0</td>\n",
       "      <td>California</td>\n",
       "      <td>Napa Valley</td>\n",
       "      <td>Napa</td>\n",
       "      <td>Virginie Boone</td>\n",
       "      <td>@vboone</td>\n",
       "      <td>Kirkland Signature 2011 Mountain Cuvée Caberne...</td>\n",
       "      <td>Cabernet Sauvignon</td>\n",
       "      <td>Kirkland Signature</td>\n",
       "    </tr>\n",
       "    <tr>\n",
       "      <th>12</th>\n",
       "      <td>12</td>\n",
       "      <td>US</td>\n",
       "      <td>Slightly reduced, this wine offers a chalky, t...</td>\n",
       "      <td>NaN</td>\n",
       "      <td>87</td>\n",
       "      <td>34.0</td>\n",
       "      <td>California</td>\n",
       "      <td>Alexander Valley</td>\n",
       "      <td>Sonoma</td>\n",
       "      <td>Virginie Boone</td>\n",
       "      <td>@vboone</td>\n",
       "      <td>Louis M. Martini 2012 Cabernet Sauvignon (Alex...</td>\n",
       "      <td>Cabernet Sauvignon</td>\n",
       "      <td>Louis M. Martini</td>\n",
       "    </tr>\n",
       "    <tr>\n",
       "      <th>37</th>\n",
       "      <td>37</td>\n",
       "      <td>Italy</td>\n",
       "      <td>This concentrated Cabernet offers aromas of cu...</td>\n",
       "      <td>Missoni</td>\n",
       "      <td>86</td>\n",
       "      <td>21.0</td>\n",
       "      <td>Sicily &amp; Sardinia</td>\n",
       "      <td>Sicilia</td>\n",
       "      <td>NaN</td>\n",
       "      <td>NaN</td>\n",
       "      <td>NaN</td>\n",
       "      <td>Feudi del Pisciotto 2010 Missoni Cabernet Sauv...</td>\n",
       "      <td>Cabernet Sauvignon</td>\n",
       "      <td>Feudi del Pisciotto</td>\n",
       "    </tr>\n",
       "    <tr>\n",
       "      <th>60</th>\n",
       "      <td>60</td>\n",
       "      <td>US</td>\n",
       "      <td>Syrupy and dense, this wine is jammy in plum a...</td>\n",
       "      <td>Estate</td>\n",
       "      <td>86</td>\n",
       "      <td>100.0</td>\n",
       "      <td>California</td>\n",
       "      <td>Napa Valley</td>\n",
       "      <td>Napa</td>\n",
       "      <td>Virginie Boone</td>\n",
       "      <td>@vboone</td>\n",
       "      <td>Okapi 2013 Estate Cabernet Sauvignon (Napa Val...</td>\n",
       "      <td>Cabernet Sauvignon</td>\n",
       "      <td>Okapi</td>\n",
       "    </tr>\n",
       "    <tr>\n",
       "      <th>71</th>\n",
       "      <td>71</td>\n",
       "      <td>US</td>\n",
       "      <td>Big oak defines this robustly dense and extrac...</td>\n",
       "      <td>Old Vine</td>\n",
       "      <td>86</td>\n",
       "      <td>40.0</td>\n",
       "      <td>California</td>\n",
       "      <td>Alexander Valley</td>\n",
       "      <td>Sonoma</td>\n",
       "      <td>Virginie Boone</td>\n",
       "      <td>@vboone</td>\n",
       "      <td>Eco Terreno 2013 Old Vine Cabernet Sauvignon (...</td>\n",
       "      <td>Cabernet Sauvignon</td>\n",
       "      <td>Eco Terreno</td>\n",
       "    </tr>\n",
       "    <tr>\n",
       "      <th>...</th>\n",
       "      <td>...</td>\n",
       "      <td>...</td>\n",
       "      <td>...</td>\n",
       "      <td>...</td>\n",
       "      <td>...</td>\n",
       "      <td>...</td>\n",
       "      <td>...</td>\n",
       "      <td>...</td>\n",
       "      <td>...</td>\n",
       "      <td>...</td>\n",
       "      <td>...</td>\n",
       "      <td>...</td>\n",
       "      <td>...</td>\n",
       "      <td>...</td>\n",
       "    </tr>\n",
       "    <tr>\n",
       "      <th>129906</th>\n",
       "      <td>129906</td>\n",
       "      <td>US</td>\n",
       "      <td>Pencil shaving and graphite notes lend a class...</td>\n",
       "      <td>NaN</td>\n",
       "      <td>91</td>\n",
       "      <td>35.0</td>\n",
       "      <td>California</td>\n",
       "      <td>Napa Valley</td>\n",
       "      <td>Napa</td>\n",
       "      <td>Virginie Boone</td>\n",
       "      <td>@vboone</td>\n",
       "      <td>Conn Creek 2013 Cabernet Sauvignon (Napa Valley)</td>\n",
       "      <td>Cabernet Sauvignon</td>\n",
       "      <td>Conn Creek</td>\n",
       "    </tr>\n",
       "    <tr>\n",
       "      <th>129913</th>\n",
       "      <td>129913</td>\n",
       "      <td>US</td>\n",
       "      <td>This is taut and dense, and requires time and ...</td>\n",
       "      <td>Artist Series #14</td>\n",
       "      <td>92</td>\n",
       "      <td>44.0</td>\n",
       "      <td>Washington</td>\n",
       "      <td>Columbia Valley (WA)</td>\n",
       "      <td>Columbia Valley</td>\n",
       "      <td>Paul Gregutt</td>\n",
       "      <td>@paulgwine</td>\n",
       "      <td>Woodward Canyon 2005 Artist Series #14 Caberne...</td>\n",
       "      <td>Cabernet Sauvignon</td>\n",
       "      <td>Woodward Canyon</td>\n",
       "    </tr>\n",
       "    <tr>\n",
       "      <th>129914</th>\n",
       "      <td>129914</td>\n",
       "      <td>US</td>\n",
       "      <td>Fritz has made tremendous progress with Cab ov...</td>\n",
       "      <td>NaN</td>\n",
       "      <td>91</td>\n",
       "      <td>35.0</td>\n",
       "      <td>California</td>\n",
       "      <td>Dry Creek Valley</td>\n",
       "      <td>Sonoma</td>\n",
       "      <td>NaN</td>\n",
       "      <td>NaN</td>\n",
       "      <td>Fritz 2005 Cabernet Sauvignon (Dry Creek Valley)</td>\n",
       "      <td>Cabernet Sauvignon</td>\n",
       "      <td>Fritz</td>\n",
       "    </tr>\n",
       "    <tr>\n",
       "      <th>129942</th>\n",
       "      <td>129942</td>\n",
       "      <td>US</td>\n",
       "      <td>This is classic in herbaceous aromas and flavo...</td>\n",
       "      <td>NaN</td>\n",
       "      <td>90</td>\n",
       "      <td>35.0</td>\n",
       "      <td>California</td>\n",
       "      <td>Sonoma County</td>\n",
       "      <td>Sonoma</td>\n",
       "      <td>Virginie Boone</td>\n",
       "      <td>@vboone</td>\n",
       "      <td>Arrowood 2010 Cabernet Sauvignon (Sonoma County)</td>\n",
       "      <td>Cabernet Sauvignon</td>\n",
       "      <td>Arrowood</td>\n",
       "    </tr>\n",
       "    <tr>\n",
       "      <th>129963</th>\n",
       "      <td>129963</td>\n",
       "      <td>Israel</td>\n",
       "      <td>A bouquet of black cherry, tart cranberry and ...</td>\n",
       "      <td>Oak Aged</td>\n",
       "      <td>90</td>\n",
       "      <td>20.0</td>\n",
       "      <td>Galilee</td>\n",
       "      <td>NaN</td>\n",
       "      <td>NaN</td>\n",
       "      <td>Mike DeSimone</td>\n",
       "      <td>@worldwineguys</td>\n",
       "      <td>Dalton 2012 Oak Aged Cabernet Sauvignon (Galilee)</td>\n",
       "      <td>Cabernet Sauvignon</td>\n",
       "      <td>Dalton</td>\n",
       "    </tr>\n",
       "  </tbody>\n",
       "</table>\n",
       "<p>9386 rows × 14 columns</p>\n",
       "</div>"
      ],
      "text/plain": [
       "        Unnamed: 0 country                                        description  \\\n",
       "10              10      US  Soft, supple plum envelopes an oaky structure ...   \n",
       "12              12      US  Slightly reduced, this wine offers a chalky, t...   \n",
       "37              37   Italy  This concentrated Cabernet offers aromas of cu...   \n",
       "60              60      US  Syrupy and dense, this wine is jammy in plum a...   \n",
       "71              71      US  Big oak defines this robustly dense and extrac...   \n",
       "...            ...     ...                                                ...   \n",
       "129906      129906      US  Pencil shaving and graphite notes lend a class...   \n",
       "129913      129913      US  This is taut and dense, and requires time and ...   \n",
       "129914      129914      US  Fritz has made tremendous progress with Cab ov...   \n",
       "129942      129942      US  This is classic in herbaceous aromas and flavo...   \n",
       "129963      129963  Israel  A bouquet of black cherry, tart cranberry and ...   \n",
       "\n",
       "              designation  points  price           province  \\\n",
       "10         Mountain Cuvée      87   19.0         California   \n",
       "12                    NaN      87   34.0         California   \n",
       "37                Missoni      86   21.0  Sicily & Sardinia   \n",
       "60                 Estate      86  100.0         California   \n",
       "71               Old Vine      86   40.0         California   \n",
       "...                   ...     ...    ...                ...   \n",
       "129906                NaN      91   35.0         California   \n",
       "129913  Artist Series #14      92   44.0         Washington   \n",
       "129914                NaN      91   35.0         California   \n",
       "129942                NaN      90   35.0         California   \n",
       "129963           Oak Aged      90   20.0            Galilee   \n",
       "\n",
       "                    region_1         region_2     taster_name  \\\n",
       "10               Napa Valley             Napa  Virginie Boone   \n",
       "12          Alexander Valley           Sonoma  Virginie Boone   \n",
       "37                   Sicilia              NaN             NaN   \n",
       "60               Napa Valley             Napa  Virginie Boone   \n",
       "71          Alexander Valley           Sonoma  Virginie Boone   \n",
       "...                      ...              ...             ...   \n",
       "129906           Napa Valley             Napa  Virginie Boone   \n",
       "129913  Columbia Valley (WA)  Columbia Valley    Paul Gregutt   \n",
       "129914      Dry Creek Valley           Sonoma             NaN   \n",
       "129942         Sonoma County           Sonoma  Virginie Boone   \n",
       "129963                   NaN              NaN   Mike DeSimone   \n",
       "\n",
       "       taster_twitter_handle  \\\n",
       "10                   @vboone   \n",
       "12                   @vboone   \n",
       "37                       NaN   \n",
       "60                   @vboone   \n",
       "71                   @vboone   \n",
       "...                      ...   \n",
       "129906               @vboone   \n",
       "129913           @paulgwine    \n",
       "129914                   NaN   \n",
       "129942               @vboone   \n",
       "129963        @worldwineguys   \n",
       "\n",
       "                                                    title             variety  \\\n",
       "10      Kirkland Signature 2011 Mountain Cuvée Caberne...  Cabernet Sauvignon   \n",
       "12      Louis M. Martini 2012 Cabernet Sauvignon (Alex...  Cabernet Sauvignon   \n",
       "37      Feudi del Pisciotto 2010 Missoni Cabernet Sauv...  Cabernet Sauvignon   \n",
       "60      Okapi 2013 Estate Cabernet Sauvignon (Napa Val...  Cabernet Sauvignon   \n",
       "71      Eco Terreno 2013 Old Vine Cabernet Sauvignon (...  Cabernet Sauvignon   \n",
       "...                                                   ...                 ...   \n",
       "129906   Conn Creek 2013 Cabernet Sauvignon (Napa Valley)  Cabernet Sauvignon   \n",
       "129913  Woodward Canyon 2005 Artist Series #14 Caberne...  Cabernet Sauvignon   \n",
       "129914   Fritz 2005 Cabernet Sauvignon (Dry Creek Valley)  Cabernet Sauvignon   \n",
       "129942   Arrowood 2010 Cabernet Sauvignon (Sonoma County)  Cabernet Sauvignon   \n",
       "129963  Dalton 2012 Oak Aged Cabernet Sauvignon (Galilee)  Cabernet Sauvignon   \n",
       "\n",
       "                     winery  \n",
       "10       Kirkland Signature  \n",
       "12         Louis M. Martini  \n",
       "37      Feudi del Pisciotto  \n",
       "60                    Okapi  \n",
       "71              Eco Terreno  \n",
       "...                     ...  \n",
       "129906           Conn Creek  \n",
       "129913      Woodward Canyon  \n",
       "129914                Fritz  \n",
       "129942             Arrowood  \n",
       "129963               Dalton  \n",
       "\n",
       "[9386 rows x 14 columns]"
      ]
     },
     "execution_count": 162,
     "metadata": {},
     "output_type": "execute_result"
    }
   ],
   "source": [
    "vynvar.get_group('Cabernet Sauvignon')"
   ]
  },
  {
   "cell_type": "code",
   "execution_count": 265,
   "metadata": {},
   "outputs": [],
   "source": [
    "v = vynvar.get_group('Cabernet Sauvignon')\n",
    "v1 = vynvar.get_group('Merlot')\n",
    "v3 = vynvar.get_group('Chardonnay')\n",
    "v4 = vynvar.get_group('Pinot Noir')"
   ]
  },
  {
   "cell_type": "code",
   "execution_count": 164,
   "metadata": {},
   "outputs": [],
   "source": [
    "vyncon= vyn2017.groupby('country')"
   ]
  },
  {
   "cell_type": "code",
   "execution_count": 165,
   "metadata": {},
   "outputs": [
    {
     "data": {
      "text/plain": [
       "dict_keys(['Argentina', 'Armenia', 'Australia', 'Austria', 'Bosnia and Herzegovina', 'Brazil', 'Bulgaria', 'Canada', 'Chile', 'China', 'Croatia', 'Cyprus', 'Czech Republic', 'Egypt', 'England', 'France', 'Georgia', 'Germany', 'Greece', 'Hungary', 'India', 'Israel', 'Italy', 'Lebanon', 'Luxembourg', 'Macedonia', 'Mexico', 'Moldova', 'Morocco', 'New Zealand', 'Peru', 'Portugal', 'Romania', 'Serbia', 'Slovakia', 'Slovenia', 'South Africa', 'Spain', 'Switzerland', 'Turkey', 'US', 'Ukraine', 'Uruguay'])"
      ]
     },
     "execution_count": 165,
     "metadata": {},
     "output_type": "execute_result"
    }
   ],
   "source": [
    "vyncon.groups.keys()"
   ]
  },
  {
   "cell_type": "code",
   "execution_count": 166,
   "metadata": {},
   "outputs": [],
   "source": [
    "allcont = vynvar.get_group('Cabernet Sauvignon')\n",
    "maxall = allcont['price'].max()\n",
    "minall = allcont['price'].min()"
   ]
  },
  {
   "cell_type": "code",
   "execution_count": 167,
   "metadata": {},
   "outputs": [
    {
     "name": "stdout",
     "output_type": "stream",
     "text": [
      "625.0\n",
      "4.0\n"
     ]
    }
   ],
   "source": [
    "print (maxall)\n",
    "print (minall)"
   ]
  },
  {
   "cell_type": "code",
   "execution_count": 231,
   "metadata": {},
   "outputs": [],
   "source": [
    "allcont1 = vynvar.get_group('Merlot')\n",
    "maxall1 = allcont1['price'].max()\n",
    "minall1 = allcont1['price'].min()"
   ]
  },
  {
   "cell_type": "code",
   "execution_count": 232,
   "metadata": {},
   "outputs": [
    {
     "name": "stdout",
     "output_type": "stream",
     "text": [
      "625.0\n",
      "4.0\n"
     ]
    }
   ],
   "source": [
    "print (maxall1)\n",
    "print (minall1)"
   ]
  },
  {
   "cell_type": "code",
   "execution_count": 266,
   "metadata": {},
   "outputs": [],
   "source": [
    "us = vyn2017_1[(vyn2017_1['country'] =='US') & (vyn2017_1['variety'] =='Cabernet Sauvignon')]\n",
    "us_M = vyn2017_1[(vyn2017_1['country'] =='US') & (vyn2017_1['variety'] == 'Merlot')]\n",
    "us_Ch = vyn2017_1[(vyn2017_1['country'] =='US') & (vyn2017_1['variety'] == 'Chardonnay')]\n",
    "us_PN = vyn2017_1[(vyn2017_1['country'] =='US') & (vyn2017_1['variety'] == 'Pinot Noir')]"
   ]
  },
  {
   "cell_type": "code",
   "execution_count": 267,
   "metadata": {},
   "outputs": [],
   "source": [
    "it = vyn2017_1[(vyn2017_1['country'] =='Italy') & (vyn2017_1['variety'] =='Cabernet Sauvignon')]\n",
    "it_M = vyn2017_1[(vyn2017_1['country'] =='Italy') & (vyn2017_1['variety'] =='Merlot')]\n",
    "it_CH = vyn2017_1[(vyn2017_1['country'] =='Italy') & (vyn2017_1['variety'] =='Chardonnay')]\n",
    "it_PN = vyn2017_1[(vyn2017_1['country'] =='Italy') & (vyn2017_1['variety'] =='Pinot Noir')]"
   ]
  },
  {
   "cell_type": "code",
   "execution_count": 268,
   "metadata": {},
   "outputs": [],
   "source": [
    "fr = vyn2017_1[(vyn2017_1['country'] =='France') & (vyn2017_1['variety'] =='Cabernet Sauvignon')]\n",
    "fr_M = vyn2017_1[(vyn2017_1['country'] =='France') & (vyn2017_1['variety'] == 'Merlot')]\n",
    "fr_CH = vyn2017_1[(vyn2017_1['country'] =='France') & (vyn2017_1['variety'] == 'Chardonnay')]\n",
    "fr_PN = vyn2017_1[(vyn2017_1['country'] =='France') & (vyn2017_1['variety'] == 'Pinot Noir')]"
   ]
  },
  {
   "cell_type": "code",
   "execution_count": 269,
   "metadata": {},
   "outputs": [],
   "source": [
    "isr = vyn2017_1[(vyn2017_1['country'] =='Israel') & (vyn2017_1['variety'] =='Cabernet Sauvignon')]\n",
    "isr_M = vyn2017_1[(vyn2017_1['country'] =='Israel') & (vyn2017_1['variety'] =='Merlot')]\n",
    "isr_CH = vyn2017_1[(vyn2017_1['country'] =='Israel') & (vyn2017_1['variety'] =='Chardonnay')]\n",
    "isr_PN = vyn2017_1[(vyn2017_1['country'] =='Israel') & (vyn2017_1['variety'] =='Pinot Noir')]"
   ]
  },
  {
   "cell_type": "code",
   "execution_count": 270,
   "metadata": {},
   "outputs": [],
   "source": [
    "chi = vyn2017_1[(vyn2017_1['country'] =='Chile') & (vyn2017_1['variety'] =='Cabernet Sauvignon')]\n",
    "chi_M = vyn2017_1[(vyn2017_1['country'] =='Chile') & (vyn2017_1['variety'] =='Merlot')]\n",
    "chi_CH = vyn2017_1[(vyn2017_1['country'] =='Chile') & (vyn2017_1['variety'] =='Chardonnay')]\n",
    "chi_PN = vyn2017_1[(vyn2017_1['country'] =='Chile') & (vyn2017_1['variety'] =='Pinot Noir')]"
   ]
  },
  {
   "cell_type": "code",
   "execution_count": 271,
   "metadata": {},
   "outputs": [],
   "source": [
    "isp = vyn2017_1[(vyn2017_1['country'] =='Spain') & (vyn2017_1['variety'] =='Cabernet Sauvignon')]\n",
    "isp_M = vyn2017_1[(vyn2017_1['country'] =='Spain') & (vyn2017_1['variety'] =='Merlot')]\n",
    "isp_CH = vyn2017_1[(vyn2017_1['country'] =='Spain') & (vyn2017_1['variety'] =='Chardonnay')]\n",
    "isp_PN = vyn2017_1[(vyn2017_1['country'] =='Spain') & (vyn2017_1['variety'] =='Pinot Noir')]"
   ]
  },
  {
   "cell_type": "code",
   "execution_count": 204,
   "metadata": {},
   "outputs": [
    {
     "name": "stdout",
     "output_type": "stream",
     "text": [
      "625.0\n",
      "6.0\n",
      "54.78887362637363\n"
     ]
    }
   ],
   "source": [
    "max_us = us['price'].max()\n",
    "min_us = us['price'].min()\n",
    "avg_us = us['price'].mean()\n",
    "print (max_us)\n",
    "print(min_us)\n",
    "print(avg_us)"
   ]
  },
  {
   "cell_type": "code",
   "execution_count": 229,
   "metadata": {},
   "outputs": [
    {
     "name": "stdout",
     "output_type": "stream",
     "text": [
      "200.0\n",
      "4.0\n",
      "28.765652173913043\n"
     ]
    }
   ],
   "source": [
    "max_usM = us_M['price'].max()\n",
    "min_usM = us_M['price'].min()\n",
    "avg_usM = us_M['price'].mean()\n",
    "print (max_usM)\n",
    "print(min_usM)\n",
    "print(avg_usM)"
   ]
  },
  {
   "cell_type": "code",
   "execution_count": 251,
   "metadata": {},
   "outputs": [
    {
     "name": "stdout",
     "output_type": "stream",
     "text": [
      "2013.0\n",
      "4.0\n",
      "30.637383729514248\n"
     ]
    }
   ],
   "source": [
    "max_usCH = us_Ch['price'].max()\n",
    "min_usCH = us_Ch['price'].min()\n",
    "avg_usCH = us_Ch['price'].mean()\n",
    "print (max_usCH)\n",
    "print(min_usCH)\n",
    "print(avg_usCH)"
   ]
  },
  {
   "cell_type": "code",
   "execution_count": 272,
   "metadata": {},
   "outputs": [
    {
     "name": "stdout",
     "output_type": "stream",
     "text": [
      "275.0\n",
      "7.0\n",
      "44.59064624124987\n"
     ]
    }
   ],
   "source": [
    "max_usPN = us_PN['price'].max()\n",
    "min_usPN = us_PN['price'].min()\n",
    "avg_usPN = us_PN['price'].mean()\n",
    "print (max_usPN)\n",
    "print(min_usPN)\n",
    "print(avg_usPN)"
   ]
  },
  {
   "cell_type": "code",
   "execution_count": 205,
   "metadata": {},
   "outputs": [
    {
     "name": "stdout",
     "output_type": "stream",
     "text": [
      "240.0\n",
      "9.0\n",
      "44.04237288135593\n"
     ]
    }
   ],
   "source": [
    "maxit = it['price'].max()\n",
    "minit = it['price'].min()\n",
    "avgit = it['price'].mean()\n",
    "print(maxit)\n",
    "print(minit)\n",
    "print(avgit)"
   ]
  },
  {
   "cell_type": "code",
   "execution_count": 252,
   "metadata": {},
   "outputs": [
    {
     "name": "stdout",
     "output_type": "stream",
     "text": [
      "130.0\n",
      "8.0\n",
      "31.794871794871796\n"
     ]
    }
   ],
   "source": [
    "maxit_CH = it_CH['price'].max()\n",
    "minit_CH = it_CH['price'].min()\n",
    "avgit_CH = it_CH['price'].mean()\n",
    "print(maxit_CH)\n",
    "print(minit_CH)\n",
    "print(avgit_CH)"
   ]
  },
  {
   "cell_type": "code",
   "execution_count": 230,
   "metadata": {},
   "outputs": [
    {
     "name": "stdout",
     "output_type": "stream",
     "text": [
      "625.0\n",
      "8.0\n",
      "92.76086956521739\n"
     ]
    }
   ],
   "source": [
    "maxit_M = it_M['price'].max()\n",
    "minit_M = it_M['price'].min()\n",
    "avgit_M = it_M['price'].mean()\n",
    "print(maxit_M)\n",
    "print(minit_M)\n",
    "print(avgit_M)"
   ]
  },
  {
   "cell_type": "code",
   "execution_count": 273,
   "metadata": {},
   "outputs": [
    {
     "name": "stdout",
     "output_type": "stream",
     "text": [
      "50.0\n",
      "10.0\n",
      "24.5\n"
     ]
    }
   ],
   "source": [
    "maxit_PN = it_PN['price'].max()\n",
    "minit_PN = it_PN['price'].min()\n",
    "avgit_PN = it_PN['price'].mean()\n",
    "print(maxit_PN)\n",
    "print(minit_PN)\n",
    "print(avgit_PN)"
   ]
  },
  {
   "cell_type": "code",
   "execution_count": 206,
   "metadata": {},
   "outputs": [
    {
     "name": "stdout",
     "output_type": "stream",
     "text": [
      "125.0\n",
      "5.0\n",
      "18.037735849056602\n"
     ]
    }
   ],
   "source": [
    "maxfr = fr['price'].max()\n",
    "minfr = fr['price'].min()\n",
    "avgfr = fr['price'].mean()\n",
    "print(maxfr)\n",
    "print(minfr)\n",
    "print(avgfr)\n"
   ]
  },
  {
   "cell_type": "code",
   "execution_count": 233,
   "metadata": {},
   "outputs": [
    {
     "name": "stdout",
     "output_type": "stream",
     "text": [
      "128.0\n",
      "7.0\n",
      "24.5\n"
     ]
    }
   ],
   "source": [
    "maxfrM = fr_M['price'].max()\n",
    "minfrM = fr_M['price'].min()\n",
    "avgfrM = fr_M['price'].mean()\n",
    "print(maxfrM)\n",
    "print(minfrM)\n",
    "print(avgfrM)"
   ]
  },
  {
   "cell_type": "code",
   "execution_count": 253,
   "metadata": {},
   "outputs": [
    {
     "name": "stdout",
     "output_type": "stream",
     "text": [
      "886.0\n",
      "6.0\n",
      "57.275336322869954\n"
     ]
    }
   ],
   "source": [
    "maxfrCH = fr_CH['price'].max()\n",
    "minfrCH = fr_CH['price'].min()\n",
    "avgfrCH = fr_CH['price'].mean()\n",
    "print(maxfrCH)\n",
    "print(minfrCH)\n",
    "print(avgfrCH)"
   ]
  },
  {
   "cell_type": "code",
   "execution_count": 274,
   "metadata": {},
   "outputs": [
    {
     "name": "stdout",
     "output_type": "stream",
     "text": [
      "2500.0\n",
      "5.0\n",
      "81.8521573604061\n"
     ]
    }
   ],
   "source": [
    "maxfrPN = fr_PN['price'].max()\n",
    "minfrPN = fr_PN['price'].min()\n",
    "avgfrPN = fr_PN['price'].mean()\n",
    "print(maxfrPN)\n",
    "print(minfrPN)\n",
    "print(avgfrPN)"
   ]
  },
  {
   "cell_type": "code",
   "execution_count": 207,
   "metadata": {},
   "outputs": [
    {
     "name": "stdout",
     "output_type": "stream",
     "text": [
      "75.0\n",
      "9.0\n",
      "33.98989898989899\n"
     ]
    }
   ],
   "source": [
    "maxisr = isr['price'].max()\n",
    "minisr = isr['price'].min()\n",
    "avgisr = isr['price'].mean()\n",
    "print(maxisr)\n",
    "print(minisr)\n",
    "print(avgisr)"
   ]
  },
  {
   "cell_type": "code",
   "execution_count": 234,
   "metadata": {},
   "outputs": [
    {
     "name": "stdout",
     "output_type": "stream",
     "text": [
      "60.0\n",
      "9.0\n",
      "25.026315789473685\n"
     ]
    }
   ],
   "source": [
    "maxisrM = isr_M['price'].max()\n",
    "minisrM = isr_M['price'].min()\n",
    "avgisrM = isr_M['price'].mean()\n",
    "print(maxisrM)\n",
    "print(minisrM)\n",
    "print(avgisrM)"
   ]
  },
  {
   "cell_type": "code",
   "execution_count": 254,
   "metadata": {},
   "outputs": [
    {
     "name": "stdout",
     "output_type": "stream",
     "text": [
      "50.0\n",
      "8.0\n",
      "23.82051282051282\n"
     ]
    }
   ],
   "source": [
    "maxisrCH = isr_CH['price'].max()\n",
    "minisrCH = isr_CH['price'].min()\n",
    "avgisrCH = isr_CH['price'].mean()\n",
    "print(maxisrCH)\n",
    "print(minisrCH)\n",
    "print(avgisrCH)"
   ]
  },
  {
   "cell_type": "code",
   "execution_count": 275,
   "metadata": {},
   "outputs": [
    {
     "name": "stdout",
     "output_type": "stream",
     "text": [
      "28.0\n",
      "12.0\n",
      "18.428571428571427\n"
     ]
    }
   ],
   "source": [
    "maxisrPN = isr_PN['price'].max()\n",
    "minisrPN = isr_PN['price'].min()\n",
    "avgisrPN = isr_PN['price'].mean()\n",
    "print(maxisrPN)\n",
    "print(minisrPN)\n",
    "print(avgisrPN)"
   ]
  },
  {
   "cell_type": "code",
   "execution_count": 208,
   "metadata": {},
   "outputs": [
    {
     "name": "stdout",
     "output_type": "stream",
     "text": [
      "400.0\n",
      "5.0\n",
      "20.023560209424083\n"
     ]
    }
   ],
   "source": [
    "maxch = chi['price'].max()\n",
    "minch = chi['price'].min()\n",
    "avgch = chi['price'].mean()\n",
    "print(maxch)\n",
    "print(minch)\n",
    "print(avgch)"
   ]
  },
  {
   "cell_type": "code",
   "execution_count": 235,
   "metadata": {},
   "outputs": [
    {
     "name": "stdout",
     "output_type": "stream",
     "text": [
      "35.0\n",
      "5.0\n",
      "12.92578125\n"
     ]
    }
   ],
   "source": [
    "maxchM = chi_M['price'].max()\n",
    "minchM = chi_M['price'].min()\n",
    "avgchM = chi_M['price'].mean()\n",
    "print(maxchM)\n",
    "print(minchM)\n",
    "print(avgchM)"
   ]
  },
  {
   "cell_type": "code",
   "execution_count": 255,
   "metadata": {},
   "outputs": [
    {
     "name": "stdout",
     "output_type": "stream",
     "text": [
      "95.0\n",
      "6.0\n",
      "15.24705882352941\n"
     ]
    }
   ],
   "source": [
    "maxchCH = chi_CH['price'].max()\n",
    "minchCH = chi_CH['price'].min()\n",
    "avgchCH = chi_CH['price'].mean()\n",
    "print(maxchCH)\n",
    "print(minchCH)\n",
    "print(avgchCH)"
   ]
  },
  {
   "cell_type": "code",
   "execution_count": 276,
   "metadata": {},
   "outputs": [
    {
     "name": "stdout",
     "output_type": "stream",
     "text": [
      "100.0\n",
      "7.0\n",
      "19.10335195530726\n"
     ]
    }
   ],
   "source": [
    "maxchPN = chi_PN['price'].max()\n",
    "minchPN = chi_PN['price'].min()\n",
    "avgchPN = chi_PN['price'].mean()\n",
    "print(maxchPN)\n",
    "print(minchPN)\n",
    "print(avgchPN)"
   ]
  },
  {
   "cell_type": "code",
   "execution_count": 209,
   "metadata": {},
   "outputs": [
    {
     "name": "stdout",
     "output_type": "stream",
     "text": [
      "135.0\n",
      "4.0\n",
      "31.75\n"
     ]
    }
   ],
   "source": [
    "maxisp = isp['price'].max()\n",
    "minisp = isp['price'].min()\n",
    "avgisp= isp['price'].mean()\n",
    "print(maxisp)\n",
    "print(minisp)\n",
    "print(avgisp)"
   ]
  },
  {
   "cell_type": "code",
   "execution_count": 236,
   "metadata": {},
   "outputs": [
    {
     "name": "stdout",
     "output_type": "stream",
     "text": [
      "40.0\n",
      "9.0\n",
      "17.466666666666665\n"
     ]
    }
   ],
   "source": [
    "maxispM = isp_M['price'].max()\n",
    "minispM = isp_M['price'].min()\n",
    "avgispM = isp_M['price'].mean()\n",
    "print(maxispM)\n",
    "print(minispM)\n",
    "print(avgispM)"
   ]
  },
  {
   "cell_type": "code",
   "execution_count": 256,
   "metadata": {},
   "outputs": [
    {
     "name": "stdout",
     "output_type": "stream",
     "text": [
      "90.0\n",
      "6.0\n",
      "19.788732394366196\n"
     ]
    }
   ],
   "source": [
    "maxispCH = isp_CH['price'].max()\n",
    "minispCH = isp_CH['price'].min()\n",
    "avgispCH = isp_CH['price'].mean()\n",
    "print(maxispCH)\n",
    "print(minispCH)\n",
    "print(avgispCH)"
   ]
  },
  {
   "cell_type": "code",
   "execution_count": 277,
   "metadata": {},
   "outputs": [
    {
     "name": "stdout",
     "output_type": "stream",
     "text": [
      "40.0\n",
      "12.0\n",
      "19.818181818181817\n"
     ]
    }
   ],
   "source": [
    "maxispPN = isp_PN['price'].max()\n",
    "minispPN = isp_PN['price'].min()\n",
    "avgispPN = isp_PN['price'].mean()\n",
    "print(maxispPN)\n",
    "print(minispPN)\n",
    "print(avgispPN)"
   ]
  },
  {
   "cell_type": "code",
   "execution_count": null,
   "metadata": {},
   "outputs": [
    {
     "data": {
      "text/plain": [
       "10         19.0\n",
       "12         34.0\n",
       "37         21.0\n",
       "60        100.0\n",
       "71         40.0\n",
       "          ...  \n",
       "129906     35.0\n",
       "129913     44.0\n",
       "129914     35.0\n",
       "129942     35.0\n",
       "129963     20.0\n",
       "Name: price, Length: 9472, dtype: float64"
      ]
     },
     "execution_count": 84,
     "metadata": {},
     "output_type": "execute_result"
    }
   ],
   "source": [
    "vynvar.get_group('Cabernet Sauvignon')['price']"
   ]
  },
  {
   "cell_type": "code",
   "execution_count": 217,
   "metadata": {},
   "outputs": [
    {
     "data": {
      "text/plain": [
       "23        22.0\n",
       "44         9.0\n",
       "87        55.0\n",
       "168       95.0\n",
       "188       11.0\n",
       "          ... \n",
       "129840    20.0\n",
       "129846    10.0\n",
       "129847    48.0\n",
       "129857    44.0\n",
       "129900    32.0\n",
       "Name: price, Length: 3062, dtype: float64"
      ]
     },
     "execution_count": 217,
     "metadata": {},
     "output_type": "execute_result"
    }
   ],
   "source": [
    "vynvar.get_group('Merlot')['price']"
   ]
  },
  {
   "cell_type": "code",
   "execution_count": null,
   "metadata": {},
   "outputs": [],
   "source": [
    "vynvarItaly = [vynvar.get_group('Cabernet Sauvignon')['country']=='Italy']"
   ]
  },
  {
   "cell_type": "code",
   "execution_count": null,
   "metadata": {},
   "outputs": [
    {
     "data": {
      "text/plain": [
       "[10        False\n",
       " 12        False\n",
       " 37         True\n",
       " 60        False\n",
       " 71        False\n",
       "           ...  \n",
       " 129906    False\n",
       " 129913    False\n",
       " 129914    False\n",
       " 129942    False\n",
       " 129963    False\n",
       " Name: country, Length: 9472, dtype: bool]"
      ]
     },
     "execution_count": 41,
     "metadata": {},
     "output_type": "execute_result"
    }
   ],
   "source": [
    "vynvarItaly"
   ]
  },
  {
   "cell_type": "code",
   "execution_count": 187,
   "metadata": {},
   "outputs": [],
   "source": [
    "v_CS = vyn2017_1[vyn2017_1['variety'] == 'Cabernet Sauvignon']\n",
    "v_M = vyn2017_1[vyn2017_1['variety'] == 'Merlot']\n",
    "v_CH = vyn2017_1[vyn2017_1['variety'] == 'Chardonnay']\n",
    "v_PN = vyn2017_1[vyn2017_1['variety'] == 'Pinot Noir']"
   ]
  },
  {
   "cell_type": "code",
   "execution_count": 210,
   "metadata": {},
   "outputs": [],
   "source": [
    "vcs_c = v_CS.groupby('country')\n",
    "kaina1 = vcs_c.get_group('Italy')['price'].values \n",
    "kaina2 = vcs_c.get_group('France')['price'].values\n",
    "kaina3 = vcs_c.get_group('US')['price'].values\n",
    "kaina4 = vcs_c.get_group('Israel')['price'].values\n",
    "kaina5 = vcs_c.get_group('Chile')['price'].values\n",
    "kaina6 = vcs_c.get_group('Spain')['price'].values"
   ]
  },
  {
   "cell_type": "code",
   "execution_count": 218,
   "metadata": {},
   "outputs": [],
   "source": [
    "vM_c = v_M.groupby('country')\n",
    "kaina1_M = vM_c.get_group('Italy')['price'].values \n",
    "kaina2_M = vM_c.get_group('France')['price'].values\n",
    "kaina3_M= vM_c.get_group('US')['price'].values\n",
    "kaina4_M = vM_c.get_group('Israel')['price'].values\n",
    "kaina5_M = vM_c.get_group('Chile')['price'].values\n",
    "kaina6_M = vM_c.get_group('Spain')['price'].values"
   ]
  },
  {
   "cell_type": "code",
   "execution_count": 259,
   "metadata": {},
   "outputs": [],
   "source": [
    "vCH_c = v_CH.groupby('country')\n",
    "kaina1_CH = vCH_c.get_group('Italy')['price'].values \n",
    "kaina2_CH = vCH_c.get_group('France')['price'].values\n",
    "kaina3_Ch = vCH_c.get_group('US')['price'].values\n",
    "kaina4_CH = vCH_c.get_group('Israel')['price'].values\n",
    "kaina5_CH = vCH_c.get_group('Chile')['price'].values\n",
    "kaina6_CH = vCH_c.get_group('Spain')['price'].values"
   ]
  },
  {
   "cell_type": "code",
   "execution_count": 278,
   "metadata": {},
   "outputs": [],
   "source": [
    "vPN_c = v_PN.groupby('country')\n",
    "kaina1_PN = vPN_c.get_group('Italy')['price'].values \n",
    "kaina2_PN = vPN_c.get_group('France')['price'].values\n",
    "kaina3_PN = vPN_c.get_group('US')['price'].values\n",
    "kaina4_PN = vPN_c.get_group('Israel')['price'].values\n",
    "kaina5_PN = vPN_c.get_group('Chile')['price'].values\n",
    "kaina6_PN = vPN_c.get_group('Spain')['price'].values"
   ]
  },
  {
   "cell_type": "code",
   "execution_count": 281,
   "metadata": {},
   "outputs": [
    {
     "data": {
      "image/png": "[encoded data removed]",
      "text/plain": [
       "<Figure size 1800x1200 with 4 Axes>"
      ]
     },
     "metadata": {},
     "output_type": "display_data"
    }
   ],
   "source": [
    "fig, ax = plt.subplots(2,2)\n",
    "ax[0][0].boxplot([kaina1, kaina2, kaina3, kaina4, kaina5, kaina6], showfliers=False, showmeans=True) #nerodo ekstremaliu tasku (showfliers), showmeans - parodi vidurkius.\n",
    "ax[0][0].scatter([1,2,3,4,5,6], [avgit, avgfr, avg_us, avgisr, avgch, avgisp], color=\"xkcd:marine\", zorder=3)\n",
    "ax[0][0].plot([1,2,3,4,5,6], [avgit, avgfr, avg_us, avgisr, avgch, avgisp], color='red', zorder=2)\n",
    "rei = ax[0][0].bar([1,2,3,4,5,6], [avgit, avgfr, avg_us, avgisr, avgch,avgisp], width=0.15, color='maroon', zorder=0)\n",
    "\n",
    "ax[0][0].set_xticks([1,2,3,4,5,6])\n",
    "ax[0][0].set_xticklabels(['Italija', 'Prancūzija', 'JAV ', 'Izraelis', 'Čilė', 'Ispanija'])\n",
    "\n",
    "ax[0][0].set_ylabel('Vyno butelio kaina $', fontsize =12)\n",
    "ax[0][0].set_xlabel('Šalis', fontsize =12)\n",
    "ax[0][0].set_title('2017 metų CABERNET SAUVIGNON vynuogių vyno kainų analizė', fontsize =14)\n",
    "\n",
    "ax[0][1].boxplot([kaina1_M, kaina2_M, kaina3_M, kaina4_M, kaina5_M, kaina6_M], showfliers=False, showmeans=True) #nerodo ekstremaliu tasku (showfliers), showmeans - parodi vidurkius.\n",
    "ax[0][1].scatter([1,2,3,4,5,6], [avgit_M, avgfrM, avg_usM, avgisrM, avgchM, avgispM], color=\"xkcd:marine\", zorder=3)\n",
    "ax[0][1].plot([1,2,3,4,5,6], [avgit_M, avgfrM, avg_usM, avgisrM, avgchM, avgispM], color='red', zorder=2)\n",
    "rei1 = ax[0][1].bar([1,2,3,4,5,6], [avgit_M, avgfrM, avg_usM, avgisrM, avgchM, avgispM], width=0.15, color='maroon', zorder=0)\n",
    "\n",
    "ax[0][1].set_xticks([1,2,3,4,5,6])\n",
    "ax[0][1].set_xticklabels(['Italija', 'Prancūzija', 'JAV ', 'Izraelis', 'Čilė', 'Ispanija'])\n",
    "\n",
    "ax[0][1].set_ylabel('Vyno butelio kaina $', fontsize =12)\n",
    "ax[0][1].set_xlabel('Šalis', fontsize =12)\n",
    "ax[0][1].set_title('2017 metų MERLOT vynuogių vyno kainų analizė', fontsize =14)\n",
    "\n",
    "ax[1][0].boxplot([kaina1_CH, kaina2_CH, kaina3_Ch, kaina4_CH, kaina5_CH, kaina6_CH], showfliers=False, showmeans=True) #nerodo ekstremaliu tasku (showfliers), showmeans - parodi vidurkius.\n",
    "ax[1][0].scatter([1,2,3,4,5,6], [avgit_CH, avgfrCH, avg_usCH, avgisrCH, avgchCH, avgispCH], color=\"xkcd:marine\", zorder=3)\n",
    "ax[1][0].plot([1,2,3,4,5,6], [avgit_CH, avgfrCH, avg_usCH, avgisrCH, avgchCH, avgispCH], color='red', zorder=2)\n",
    "rei2 = ax[1][0].bar([1,2,3,4,5,6], [avgit_CH, avgfrCH, avg_usCH, avgisrCH, avgchCH, avgispCH], width=0.15, color='maroon', zorder=0)\n",
    "\n",
    "ax[1][0].set_xticks([1,2,3,4,5,6])\n",
    "ax[1][0].set_xticklabels(['Italija', 'Prancūzija', 'JAV ', 'Izraelis', 'Čilė', 'Ispanija'])\n",
    "\n",
    "ax[1][0].set_ylabel('Vyno butelio kaina $', fontsize =12)\n",
    "ax[1][0].set_xlabel('Šalis', fontsize =12)\n",
    "ax[1][0].set_title('2017 metų CHARDONNAY vynuogių vyno kainų analizė', fontsize =14)\n",
    "\n",
    "ax[1][1].boxplot([kaina1_PN, kaina2_PN, kaina3_PN, kaina4_PN, kaina5_PN, kaina6_PN], showfliers=False, showmeans=True) #nerodo ekstremaliu tasku (showfliers), showmeans - parodi vidurkius.\n",
    "ax[1][1].scatter([1,2,3,4,5,6], [avgit_PN, avgfrPN, avg_usPN, avgisrPN, avgchPN, avgispPN], color=\"xkcd:marine\", zorder=3)\n",
    "ax[1][1].plot([1,2,3,4,5,6], [avgit_PN, avgfrPN, avg_usPN, avgisrPN, avgchPN, avgispPN], color='red', zorder=2)\n",
    "rei3 = ax[1][1].bar([1,2,3,4,5,6], [avgit_PN, avgfrPN, avg_usPN, avgisrPN, avgchPN, avgispPN], width=0.15, color='maroon', zorder=0)\n",
    "\n",
    "ax[1][1].set_xticks([1,2,3,4,5,6])\n",
    "ax[1][1].set_xticklabels(['Italija', 'Prancūzija', 'JAV ', 'Izraelis', 'Čilė', 'Ispanija'])\n",
    "\n",
    "ax[1][0].set_ylabel('Vyno butelio kaina $', fontsize =12)\n",
    "ax[1][0].set_xlabel('Šalis', fontsize =12)\n",
    "ax[1][0].set_title('2017 metų CHARDONNAY vynuogių vyno kainų analizė', fontsize =14)\n",
    "\n",
    "ax[1][1].set_ylabel('Vyno butelio kaina $', fontsize =12)\n",
    "ax[1][1].set_xlabel('Šalis', fontsize =12)\n",
    "ax[1][1].set_title('2017 metų PINOT NOIR vynuogių vyno kainų analizė', fontsize =14)\n",
    "\n",
    "ax[0][0].bar_label(rei)\n",
    "ax[0][1].bar_label(rei1)\n",
    "ax[1][0].bar_label(rei2)\n",
    "ax[1][1].bar_label(rei3)\n",
    "\n",
    "fig.set_size_inches(18,12)\n",
    "plt.show()"
   ]
  },
  {
   "cell_type": "markdown",
   "metadata": {},
   "source": [
    "Buvo pasirinktos 4 vynų rūšys (Cabernet Sauvignon, Merlot, Chardonnay, Pinot Noir) ir 6 šalys, kuriose jie gaminami, t.y. Italija, Prancūzija, JAV, Izraelis, Čilė, Ispanija. Nagrinėta ar ta pati vyno rūšis skirtingose šalyse kainuoja panašiai. Analizė parodė, kad kainos skiriasi, priklausomai nuo šalies, regiono. Cabernet Sauvignon vynas vidutiniškai brangiausias JAV, Merlot vynų vidutinės kainos brangiausios Italijoje, Chardonnay vyno vidutinės kainos didžiausios Prancūzijoje, Pinot Noir vyno kainos dominavo taip pat Prancūzijoje."
   ]
  },
  {
   "cell_type": "code",
   "execution_count": 317,
   "metadata": {},
   "outputs": [
    {
     "data": {
      "image/png": "[encoded data removed]",
      "text/plain": [
       "<Figure size 1400x600 with 1 Axes>"
      ]
     },
     "metadata": {},
     "output_type": "display_data"
    }
   ],
   "source": [
    "x= np.asarray([1,2,3,4,5,6])\n",
    "w = 0.315 \n",
    "\n",
    "fig, ax = plt.subplots()\n",
    "\n",
    "\n",
    "r1 = ax.bar(x-w/1.35, [maxit, maxfr, max_us, maxisr, maxch, maxisp], width=0.15, color='maroon', zorder=0, label= 'Cabernet Sauvignon')\n",
    "r2 = ax.bar(x-w/4, [maxit_M, maxfrM, max_usM, maxisrM, maxchM, maxispM], width=0.15, color='red', zorder=0, label= 'Merlot')\n",
    "r3 = ax.bar(x+w/4, [maxit_CH, maxfrCH, max_usCH, maxisrCH, maxchCH, maxispCH], width=0.15, color='olive', zorder=0, label= 'Chardonnay')\n",
    "r4 = ax.bar(x+w/1.35, [maxit_PN, maxfrPN, max_usPN, maxisrPN, maxchPN, maxispPN], width=0.15, color='purple', zorder=0, label= 'Pinot Noir')\n",
    "\n",
    "\n",
    "ax.set_xticks([1,2,3,4,5,6])\n",
    "ax.set_xticklabels(['Italija', 'Prancūzija', 'JAV ', 'Izraelis', 'Čilė', 'Ispanija'])\n",
    "\n",
    "ax.bar_label(r1)\n",
    "ax.bar_label(r2)\n",
    "ax.bar_label(r3)\n",
    "ax.bar_label(r4)\n",
    "\n",
    "ax.set_ylabel('Vyno butelio kaina $', fontsize =12)\n",
    "ax.set_xlabel('Šalis', fontsize =12)\n",
    "ax.set_title('Vynų pasiskirstymas pagal didžiausią kainą' , fontsize =14)\n",
    "\n",
    "ax.legend()\n",
    "fig.set_size_inches(14,6)\n",
    "plt.show()"
   ]
  },
  {
   "cell_type": "markdown",
   "metadata": {},
   "source": [
    "Iš nagrinėtų šalių brangiausias Cabernet Sauvignon vynas gaminamas Napos regione, Kalifornijoje, JAV (t.y 625 dolerius už butelį) (94-98 balų);\n",
    "Merlot brangiausias vynas gaminamas Toskanos regione, Italijoje (625 dol/but) 94 balai; \n",
    "Chardonnay brangiausias - gaminamas Arroyo Seco regione, Kalifornijoje (2013 dol/but) (91 balas);\n",
    "Pinot Noir brangiausias aptiktas Prancuzijoje, Burgundijos regione (2500 dol/ but) (96 balai)\n",
    "Brangiausi vynai buvo brandinti ne trumpiau nei 6-10 metų.\n",
    "\n",
    "100 balų buvo įvertinti tik 3 vynai iš mano nagrinėtų kategorijų (36311 eilučių):\n",
    "\n",
    "Cabernet Sauvignon 'Cardinale 2006 Cabernet Sauvignon (Napa Valley)' Kalifornija (JAV)- 200 dolerių/but;\n",
    "Merlot 'Tenuta dell'Ornellaia 2007 Masseto Merlot (Toscana)' Italija - 460 dolerių/but;\n",
    "Chardonnay 'Salon 2006 Le Mesnil Blanc de Blancs Brut Chardonnay (Champagne)' Pranzūzija - 617 dolerių/but;\n"
   ]
  },
  {
   "cell_type": "markdown",
   "metadata": {},
   "source": [
    "Brangiausias 3300 dolerius kainuojantis vynas buvo 'Château les Ormes Sorbet 2013 Médoc', Bordeaux-style Red Blend vynuogių rūšies, Bordeaux regione, Prancuzijoje.\n",
    "Įdomu tai, kad jis 'WineEnthusiast' vertinamas tik 88 balais.\n",
    "\n",
    "Pigiausio vyno kaina siekė 4 dolerius už butelį, Merlot vyno 'Bandit NV Merlot (California)' JAV (84, 86 balai), Chardonnay 'Bandit NV Chardonnay (California)' (84 balai), Chardonnay 'Pam's Cuties NV Unoaked Chardonnay (California)' (83 balai), Cabernet Sauvignon 'Terrenal 2010 Cabernet Sauvignon (Yecla)', Levantes regione, Ispanijoje (84 balai)."
   ]
  },
  {
   "cell_type": "code",
   "execution_count": 383,
   "metadata": {},
   "outputs": [
    {
     "data": {
      "text/plain": [
       "<AxesSubplot: xlabel='points', ylabel='price'>"
      ]
     },
     "execution_count": 383,
     "metadata": {},
     "output_type": "execute_result"
    },
    {
     "data": {
      "image/png": "[encoded data removed]",
      "text/plain": [
       "<Figure size 640x480 with 1 Axes>"
      ]
     },
     "metadata": {},
     "output_type": "display_data"
    }
   ],
   "source": [
    "v_CS = vyn2017_1[vyn2017_1['variety'] == 'Cabernet Sauvignon']\n",
    "\n",
    "v_CS.plot.scatter(x= 'points', y = 'price')\n",
    "\n"
   ]
  },
  {
   "cell_type": "markdown",
   "metadata": {},
   "source": [
    "Iš grafiko matyti, kad vynų vertinimas balais nėra susijęs su vynų kainomis taip stipriai kaip atrodė, t.y. pvz. 80 balų vertinamo vyno kaina už butelį gali siekti nuo 8 iki 36 dolerių. 91 balą vertinamas vynas nuo 15 iki 175 dolerių už butelį, 95 balais įvertintas vynas gali gali kainuoti nuo 25 iki 500 dolerių. Akivaizdu, kad vyno vertinimas atitinka tam tikrus kriterijus kaip pavyzdžiui jis jaunas, ar brandintas, kokiame vynuogyne augęs, kaip vynuogės apdorotos ir pan., tačiau, manau, tikrai gerai vertinamą vyną galima įsigyti nuo 13-50 dolerių."
   ]
  },
  {
   "cell_type": "markdown",
   "metadata": {},
   "source": []
  }
 ],
 "metadata": {
  "kernelspec": {
   "display_name": "Python 3.10.8 64-bit",
   "language": "python",
   "name": "python3"
  },
  "language_info": {
   "codemirror_mode": {
    "name": "ipython",
    "version": 3
   },
   "file_extension": ".py",
   "mimetype": "text/x-python",
   "name": "python",
   "nbconvert_exporter": "python",
   "pygments_lexer": "ipython3",
   "version": "3.10.8"
  },
  "orig_nbformat": 4,
  "vscode": {
   "interpreter": {
    "hash": "26de051ba29f2982a8de78e945f0abaf191376122a1563185a90213a26c5da77"
   }
  }
 },
 "nbformat": 4,
 "nbformat_minor": 2
}
